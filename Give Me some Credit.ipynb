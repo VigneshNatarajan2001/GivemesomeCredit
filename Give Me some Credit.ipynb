{
  "nbformat": 4,
  "nbformat_minor": 0,
  "metadata": {
    "colab": {
      "name": "Untitled38.ipynb",
      "provenance": [],
      "collapsed_sections": []
    },
    "kernelspec": {
      "name": "python3",
      "display_name": "Python 3"
    },
    "language_info": {
      "name": "python"
    }
  },
  "cells": [
    {
      "cell_type": "code",
      "metadata": {
        "id": "mdOFfszPVI2u"
      },
      "source": [
        "import numpy as np\n",
        "import pandas as pd\n",
        "import matplotlib.pyplot as plt\n",
        "import sklearn\n"
      ],
      "execution_count": 99,
      "outputs": []
    },
    {
      "cell_type": "code",
      "metadata": {
        "colab": {
          "base_uri": "https://localhost:8080/"
        },
        "id": "G_Zj8j6lVcPL",
        "outputId": "269341b6-aebb-4666-cc97-24725723017d"
      },
      "source": [
        "data = pd.read_csv('/content/cs-training.csv')\n",
        "data.head()\n",
        "data=data.iloc[:,1:]\n",
        "type(data)"
      ],
      "execution_count": 100,
      "outputs": [
        {
          "output_type": "execute_result",
          "data": {
            "text/plain": [
              "pandas.core.frame.DataFrame"
            ]
          },
          "metadata": {},
          "execution_count": 100
        }
      ]
    },
    {
      "cell_type": "markdown",
      "metadata": {
        "id": "vfZuyOctB52H"
      },
      "source": [
        "Exploration of Data"
      ]
    },
    {
      "cell_type": "code",
      "metadata": {
        "id": "lJHy4oeQWe3h",
        "colab": {
          "base_uri": "https://localhost:8080/"
        },
        "outputId": "ee072ffb-9175-4b93-cd34-08f27be7999a"
      },
      "source": [
        "data.info()"
      ],
      "execution_count": 101,
      "outputs": [
        {
          "output_type": "stream",
          "name": "stdout",
          "text": [
            "<class 'pandas.core.frame.DataFrame'>\n",
            "RangeIndex: 150000 entries, 0 to 149999\n",
            "Data columns (total 11 columns):\n",
            " #   Column                                Non-Null Count   Dtype  \n",
            "---  ------                                --------------   -----  \n",
            " 0   SeriousDlqin2yrs                      150000 non-null  int64  \n",
            " 1   RevolvingUtilizationOfUnsecuredLines  150000 non-null  float64\n",
            " 2   age                                   150000 non-null  int64  \n",
            " 3   NumberOfTime30-59DaysPastDueNotWorse  150000 non-null  int64  \n",
            " 4   DebtRatio                             150000 non-null  float64\n",
            " 5   MonthlyIncome                         120269 non-null  float64\n",
            " 6   NumberOfOpenCreditLinesAndLoans       150000 non-null  int64  \n",
            " 7   NumberOfTimes90DaysLate               150000 non-null  int64  \n",
            " 8   NumberRealEstateLoansOrLines          150000 non-null  int64  \n",
            " 9   NumberOfTime60-89DaysPastDueNotWorse  150000 non-null  int64  \n",
            " 10  NumberOfDependents                    146076 non-null  float64\n",
            "dtypes: float64(4), int64(7)\n",
            "memory usage: 12.6 MB\n"
          ]
        }
      ]
    },
    {
      "cell_type": "markdown",
      "metadata": {
        "id": "dJb3KBy5WnNI"
      },
      "source": [
        "Finding null values"
      ]
    },
    {
      "cell_type": "code",
      "metadata": {
        "id": "9iLElMugWpO3",
        "colab": {
          "base_uri": "https://localhost:8080/"
        },
        "outputId": "1b8fbbce-9049-4c3e-94b1-67ddfaf2d8b2"
      },
      "source": [
        "data.isnull().sum()"
      ],
      "execution_count": 102,
      "outputs": [
        {
          "output_type": "execute_result",
          "data": {
            "text/plain": [
              "SeriousDlqin2yrs                            0\n",
              "RevolvingUtilizationOfUnsecuredLines        0\n",
              "age                                         0\n",
              "NumberOfTime30-59DaysPastDueNotWorse        0\n",
              "DebtRatio                                   0\n",
              "MonthlyIncome                           29731\n",
              "NumberOfOpenCreditLinesAndLoans             0\n",
              "NumberOfTimes90DaysLate                     0\n",
              "NumberRealEstateLoansOrLines                0\n",
              "NumberOfTime60-89DaysPastDueNotWorse        0\n",
              "NumberOfDependents                       3924\n",
              "dtype: int64"
            ]
          },
          "metadata": {},
          "execution_count": 102
        }
      ]
    },
    {
      "cell_type": "code",
      "metadata": {
        "id": "HL-f6sLjC7bN",
        "colab": {
          "base_uri": "https://localhost:8080/",
          "height": 300
        },
        "outputId": "45d199c4-ffde-4f4e-a6b7-33b5203d1580"
      },
      "source": [
        "data[data['MonthlyIncome'].isnull()][['NumberOfDependents','DebtRatio']].describe()"
      ],
      "execution_count": 103,
      "outputs": [
        {
          "output_type": "execute_result",
          "data": {
            "text/html": [
              "<div>\n",
              "<style scoped>\n",
              "    .dataframe tbody tr th:only-of-type {\n",
              "        vertical-align: middle;\n",
              "    }\n",
              "\n",
              "    .dataframe tbody tr th {\n",
              "        vertical-align: top;\n",
              "    }\n",
              "\n",
              "    .dataframe thead th {\n",
              "        text-align: right;\n",
              "    }\n",
              "</style>\n",
              "<table border=\"1\" class=\"dataframe\">\n",
              "  <thead>\n",
              "    <tr style=\"text-align: right;\">\n",
              "      <th></th>\n",
              "      <th>NumberOfDependents</th>\n",
              "      <th>DebtRatio</th>\n",
              "    </tr>\n",
              "  </thead>\n",
              "  <tbody>\n",
              "    <tr>\n",
              "      <th>count</th>\n",
              "      <td>25807.000000</td>\n",
              "      <td>29731.000000</td>\n",
              "    </tr>\n",
              "    <tr>\n",
              "      <th>mean</th>\n",
              "      <td>0.316310</td>\n",
              "      <td>1673.396556</td>\n",
              "    </tr>\n",
              "    <tr>\n",
              "      <th>std</th>\n",
              "      <td>0.809944</td>\n",
              "      <td>4248.372895</td>\n",
              "    </tr>\n",
              "    <tr>\n",
              "      <th>min</th>\n",
              "      <td>0.000000</td>\n",
              "      <td>0.000000</td>\n",
              "    </tr>\n",
              "    <tr>\n",
              "      <th>25%</th>\n",
              "      <td>0.000000</td>\n",
              "      <td>123.000000</td>\n",
              "    </tr>\n",
              "    <tr>\n",
              "      <th>50%</th>\n",
              "      <td>0.000000</td>\n",
              "      <td>1159.000000</td>\n",
              "    </tr>\n",
              "    <tr>\n",
              "      <th>75%</th>\n",
              "      <td>0.000000</td>\n",
              "      <td>2382.000000</td>\n",
              "    </tr>\n",
              "    <tr>\n",
              "      <th>max</th>\n",
              "      <td>9.000000</td>\n",
              "      <td>329664.000000</td>\n",
              "    </tr>\n",
              "  </tbody>\n",
              "</table>\n",
              "</div>"
            ],
            "text/plain": [
              "       NumberOfDependents      DebtRatio\n",
              "count        25807.000000   29731.000000\n",
              "mean             0.316310    1673.396556\n",
              "std              0.809944    4248.372895\n",
              "min              0.000000       0.000000\n",
              "25%              0.000000     123.000000\n",
              "50%              0.000000    1159.000000\n",
              "75%              0.000000    2382.000000\n",
              "max              9.000000  329664.000000"
            ]
          },
          "metadata": {},
          "execution_count": 103
        }
      ]
    },
    {
      "cell_type": "markdown",
      "metadata": {
        "id": "G6iAMNwjHrlw"
      },
      "source": [
        "Dealing with missing values"
      ]
    },
    {
      "cell_type": "code",
      "metadata": {
        "id": "uS5dDOF3ECB-",
        "colab": {
          "base_uri": "https://localhost:8080/"
        },
        "outputId": "c0390617-f191-4bb8-9585-dca4c46a8879"
      },
      "source": [
        "data['DebtRatio'].describe()"
      ],
      "execution_count": 104,
      "outputs": [
        {
          "output_type": "execute_result",
          "data": {
            "text/plain": [
              "count    150000.000000\n",
              "mean        353.005076\n",
              "std        2037.818523\n",
              "min           0.000000\n",
              "25%           0.175074\n",
              "50%           0.366508\n",
              "75%           0.868254\n",
              "max      329664.000000\n",
              "Name: DebtRatio, dtype: float64"
            ]
          },
          "metadata": {},
          "execution_count": 104
        }
      ]
    },
    {
      "cell_type": "markdown",
      "metadata": {
        "id": "z2JB9so7GW17"
      },
      "source": [
        "Calculating the 50% of Monthly income from the data who has debt ratiop greater then 1"
      ]
    },
    {
      "cell_type": "code",
      "metadata": {
        "id": "ksyw9lm4FrjJ",
        "colab": {
          "base_uri": "https://localhost:8080/"
        },
        "outputId": "06994adf-ecef-4fcd-9b64-b004a6f95767"
      },
      "source": [
        "data[(data['MonthlyIncome'].notnull())&(data['DebtRatio']>1)]['MonthlyIncome'].describe()"
      ],
      "execution_count": 105,
      "outputs": [
        {
          "output_type": "execute_result",
          "data": {
            "text/plain": [
              "count     7233.000000\n",
              "mean      2258.955067\n",
              "std       2831.168204\n",
              "min          0.000000\n",
              "25%          1.000000\n",
              "50%       1577.000000\n",
              "75%       3333.000000\n",
              "max      70000.000000\n",
              "Name: MonthlyIncome, dtype: float64"
            ]
          },
          "metadata": {},
          "execution_count": 105
        }
      ]
    },
    {
      "cell_type": "code",
      "metadata": {
        "id": "uzaI7ym9XUgH",
        "colab": {
          "base_uri": "https://localhost:8080/"
        },
        "outputId": "589a5c0c-ab42-48bc-abd7-d9ab5f2f935f"
      },
      "source": [
        "data.isnull().sum()"
      ],
      "execution_count": 106,
      "outputs": [
        {
          "output_type": "execute_result",
          "data": {
            "text/plain": [
              "SeriousDlqin2yrs                            0\n",
              "RevolvingUtilizationOfUnsecuredLines        0\n",
              "age                                         0\n",
              "NumberOfTime30-59DaysPastDueNotWorse        0\n",
              "DebtRatio                                   0\n",
              "MonthlyIncome                           29731\n",
              "NumberOfOpenCreditLinesAndLoans             0\n",
              "NumberOfTimes90DaysLate                     0\n",
              "NumberRealEstateLoansOrLines                0\n",
              "NumberOfTime60-89DaysPastDueNotWorse        0\n",
              "NumberOfDependents                       3924\n",
              "dtype: int64"
            ]
          },
          "metadata": {},
          "execution_count": 106
        }
      ]
    },
    {
      "cell_type": "code",
      "metadata": {
        "id": "EAGcbe4JSgCp",
        "colab": {
          "base_uri": "https://localhost:8080/"
        },
        "outputId": "cc695b67-8fe6-488d-8fd7-1af732d0fe73"
      },
      "source": [
        "data.shape"
      ],
      "execution_count": 107,
      "outputs": [
        {
          "output_type": "execute_result",
          "data": {
            "text/plain": [
              "(150000, 11)"
            ]
          },
          "metadata": {},
          "execution_count": 107
        }
      ]
    },
    {
      "cell_type": "markdown",
      "metadata": {
        "id": "vmoU5edsTiUy"
      },
      "source": [
        "Filling the null value in Monthly income with mean"
      ]
    },
    {
      "cell_type": "code",
      "metadata": {
        "id": "skrndYZVTsbE"
      },
      "source": [
        "data['MonthlyIncome'].fillna(value=1157, inplace=True)\n",
        "data['NumberOfDependents'].fillna(value=0, inplace=True)"
      ],
      "execution_count": 108,
      "outputs": []
    },
    {
      "cell_type": "code",
      "metadata": {
        "id": "Q4f3mnjxSkEY",
        "colab": {
          "base_uri": "https://localhost:8080/"
        },
        "outputId": "e39eaf48-7b45-40ec-b6b7-331edc49021a"
      },
      "source": [
        "data.isnull().sum()"
      ],
      "execution_count": 109,
      "outputs": [
        {
          "output_type": "execute_result",
          "data": {
            "text/plain": [
              "SeriousDlqin2yrs                        0\n",
              "RevolvingUtilizationOfUnsecuredLines    0\n",
              "age                                     0\n",
              "NumberOfTime30-59DaysPastDueNotWorse    0\n",
              "DebtRatio                               0\n",
              "MonthlyIncome                           0\n",
              "NumberOfOpenCreditLinesAndLoans         0\n",
              "NumberOfTimes90DaysLate                 0\n",
              "NumberRealEstateLoansOrLines            0\n",
              "NumberOfTime60-89DaysPastDueNotWorse    0\n",
              "NumberOfDependents                      0\n",
              "dtype: int64"
            ]
          },
          "metadata": {},
          "execution_count": 109
        }
      ]
    },
    {
      "cell_type": "code",
      "metadata": {
        "id": "DPPTLbfuY8XL",
        "colab": {
          "base_uri": "https://localhost:8080/"
        },
        "outputId": "f0892de0-5fc4-4585-d428-e1cb5d47459e"
      },
      "source": [
        "data.shape"
      ],
      "execution_count": 110,
      "outputs": [
        {
          "output_type": "execute_result",
          "data": {
            "text/plain": [
              "(150000, 11)"
            ]
          },
          "metadata": {},
          "execution_count": 110
        }
      ]
    },
    {
      "cell_type": "markdown",
      "metadata": {
        "id": "k5sLnR1BIUXo"
      },
      "source": [
        "Exploration of data COlumn by column"
      ]
    },
    {
      "cell_type": "code",
      "metadata": {
        "id": "hKilAi4NHypN",
        "colab": {
          "base_uri": "https://localhost:8080/",
          "height": 431
        },
        "outputId": "e2f94981-d9e8-4cbf-cc13-8597c03fc78d"
      },
      "source": [
        "data.boxplot(column='RevolvingUtilizationOfUnsecuredLines')\n",
        "data['RevolvingUtilizationOfUnsecuredLines'][(data['RevolvingUtilizationOfUnsecuredLines']>5)].describe()"
      ],
      "execution_count": 111,
      "outputs": [
        {
          "output_type": "execute_result",
          "data": {
            "text/plain": [
              "count      254.000000\n",
              "mean      3381.930768\n",
              "std       5051.880235\n",
              "min          5.148736\n",
              "25%        760.500000\n",
              "50%       1899.000000\n",
              "75%       3871.750000\n",
              "max      50708.000000\n",
              "Name: RevolvingUtilizationOfUnsecuredLines, dtype: float64"
            ]
          },
          "metadata": {},
          "execution_count": 111
        },
        {
          "output_type": "display_data",
          "data": {
            "image/png": "[encoded data removed]",
            "text/plain": [
              "<Figure size 432x288 with 1 Axes>"
            ]
          },
          "metadata": {
            "needs_background": "light"
          }
        }
      ]
    },
    {
      "cell_type": "code",
      "metadata": {
        "id": "-ljLSL-pJOE7",
        "colab": {
          "base_uri": "https://localhost:8080/",
          "height": 297
        },
        "outputId": "0968ff5a-486d-4f19-ea82-a939dbe518fa"
      },
      "source": [
        "import seaborn as s\n",
        "s.boxplot(x = data[data['RevolvingUtilizationOfUnsecuredLines']>5]['RevolvingUtilizationOfUnsecuredLines'])"
      ],
      "execution_count": 112,
      "outputs": [
        {
          "output_type": "execute_result",
          "data": {
            "text/plain": [
              "<matplotlib.axes._subplots.AxesSubplot at 0x7feed3c55ed0>"
            ]
          },
          "metadata": {},
          "execution_count": 112
        },
        {
          "output_type": "display_data",
          "data": {
            "image/png": "[encoded data removed]",
            "text/plain": [
              "<Figure size 432x288 with 1 Axes>"
            ]
          },
          "metadata": {
            "needs_background": "light"
          }
        }
      ]
    },
    {
      "cell_type": "code",
      "metadata": {
        "id": "sh1xYgGlKgE4",
        "colab": {
          "base_uri": "https://localhost:8080/",
          "height": 297
        },
        "outputId": "ac69c822-0d25-494c-c34a-92e17b52e55a"
      },
      "source": [
        "s.boxplot(x = data[data['RevolvingUtilizationOfUnsecuredLines']<1]['RevolvingUtilizationOfUnsecuredLines'])"
      ],
      "execution_count": 113,
      "outputs": [
        {
          "output_type": "execute_result",
          "data": {
            "text/plain": [
              "<matplotlib.axes._subplots.AxesSubplot at 0x7feed3bcf0d0>"
            ]
          },
          "metadata": {},
          "execution_count": 113
        },
        {
          "output_type": "display_data",
          "data": {
            "image/png": "[encoded data removed]",
            "text/plain": [
              "<Figure size 432x288 with 1 Axes>"
            ]
          },
          "metadata": {
            "needs_background": "light"
          }
        }
      ]
    },
    {
      "cell_type": "markdown",
      "metadata": {
        "id": "dLX8jaV7LSLI"
      },
      "source": [
        "Removing Data that are greater than 95% Quantile value of RevolvingUtilizationOfUnsecuredLines"
      ]
    },
    {
      "cell_type": "code",
      "metadata": {
        "id": "d3KeNJDKIa7R",
        "colab": {
          "base_uri": "https://localhost:8080/"
        },
        "outputId": "6179f697-2fb1-43c2-8f26-b8717ba4ff1c"
      },
      "source": [
        "data[data['RevolvingUtilizationOfUnsecuredLines'] >5]['RevolvingUtilizationOfUnsecuredLines'].count()/len(data) * 100"
      ],
      "execution_count": 114,
      "outputs": [
        {
          "output_type": "execute_result",
          "data": {
            "text/plain": [
              "0.16933333333333334"
            ]
          },
          "metadata": {},
          "execution_count": 114
        }
      ]
    },
    {
      "cell_type": "code",
      "metadata": {
        "id": "oGuOC6izMqFW",
        "colab": {
          "base_uri": "https://localhost:8080/"
        },
        "outputId": "b53076da-091c-45fb-d354-421341f8f041"
      },
      "source": [
        "data = data[data['RevolvingUtilizationOfUnsecuredLines'] <=5]\n",
        "data.describe()\n",
        "data.shape"
      ],
      "execution_count": 115,
      "outputs": [
        {
          "output_type": "execute_result",
          "data": {
            "text/plain": [
              "(149746, 11)"
            ]
          },
          "metadata": {},
          "execution_count": 115
        }
      ]
    },
    {
      "cell_type": "markdown",
      "metadata": {
        "id": "VXPAUeUcO9Dy"
      },
      "source": [
        "AGE"
      ]
    },
    {
      "cell_type": "code",
      "metadata": {
        "id": "mJ6OJVvrOUXb",
        "colab": {
          "base_uri": "https://localhost:8080/",
          "height": 297
        },
        "outputId": "54e30720-ced0-42b8-cdd6-35f302ad5767"
      },
      "source": [
        "s.histplot(data['age'], binwidth=3)"
      ],
      "execution_count": 116,
      "outputs": [
        {
          "output_type": "execute_result",
          "data": {
            "text/plain": [
              "<matplotlib.axes._subplots.AxesSubplot at 0x7feed3ba3090>"
            ]
          },
          "metadata": {},
          "execution_count": 116
        },
        {
          "output_type": "display_data",
          "data": {
            "image/png": "[encoded data removed]",
            "text/plain": [
              "<Figure size 432x288 with 1 Axes>"
            ]
          },
          "metadata": {
            "needs_background": "light"
          }
        }
      ]
    },
    {
      "cell_type": "code",
      "metadata": {
        "id": "AmBcrqpqPvSM",
        "colab": {
          "base_uri": "https://localhost:8080/"
        },
        "outputId": "b00c0b3d-fa1b-44f9-b207-5ecae94a38e5"
      },
      "source": [
        "data['age'].value_counts().sort_index()\n"
      ],
      "execution_count": 117,
      "outputs": [
        {
          "output_type": "execute_result",
          "data": {
            "text/plain": [
              "0        1\n",
              "21     183\n",
              "22     434\n",
              "23     641\n",
              "24     815\n",
              "      ... \n",
              "102      3\n",
              "103      3\n",
              "105      1\n",
              "107      1\n",
              "109      2\n",
              "Name: age, Length: 86, dtype: int64"
            ]
          },
          "metadata": {},
          "execution_count": 117
        }
      ]
    },
    {
      "cell_type": "markdown",
      "metadata": {
        "id": "-J0CUAgzQYao"
      },
      "source": [
        "replacing age of 0 with median value of age"
      ]
    },
    {
      "cell_type": "code",
      "metadata": {
        "id": "34qpEEtzQjqC",
        "colab": {
          "base_uri": "https://localhost:8080/"
        },
        "outputId": "8f30438b-449d-4b81-8d50-1ae13f7f7afb"
      },
      "source": [
        "data['age'].replace(to_replace= 0, value=data['age'].median(), inplace=True)\n",
        "data['age'].value_counts().sort_index()\n",
        "data.shape"
      ],
      "execution_count": 118,
      "outputs": [
        {
          "output_type": "execute_result",
          "data": {
            "text/plain": [
              "(149746, 11)"
            ]
          },
          "metadata": {},
          "execution_count": 118
        }
      ]
    },
    {
      "cell_type": "code",
      "metadata": {
        "id": "CjhEJCB6U-gl",
        "colab": {
          "base_uri": "https://localhost:8080/"
        },
        "outputId": "274bb16d-4811-4a2f-bbbb-add72ac0bf21"
      },
      "source": [
        "data[\"NumberOfTimes90DaysLate\"].value_counts().sort_index()"
      ],
      "execution_count": 119,
      "outputs": [
        {
          "output_type": "execute_result",
          "data": {
            "text/plain": [
              "0     141417\n",
              "1       5238\n",
              "2       1553\n",
              "3        666\n",
              "4        291\n",
              "5        131\n",
              "6         80\n",
              "7         38\n",
              "8         20\n",
              "9         19\n",
              "10         8\n",
              "11         5\n",
              "12         2\n",
              "13         4\n",
              "14         2\n",
              "15         2\n",
              "17         1\n",
              "96         5\n",
              "98       264\n",
              "Name: NumberOfTimes90DaysLate, dtype: int64"
            ]
          },
          "metadata": {},
          "execution_count": 119
        }
      ]
    },
    {
      "cell_type": "code",
      "metadata": {
        "id": "8TDP3hKJVCV1",
        "colab": {
          "base_uri": "https://localhost:8080/"
        },
        "outputId": "b4a35935-d1cf-4d4f-894d-d9a1912798f5"
      },
      "source": [
        "data[\"NumberOfTime60-89DaysPastDueNotWorse\"].value_counts().sort_index()"
      ],
      "execution_count": 120,
      "outputs": [
        {
          "output_type": "execute_result",
          "data": {
            "text/plain": [
              "0     142155\n",
              "1       5721\n",
              "2       1117\n",
              "3        318\n",
              "4        104\n",
              "5         34\n",
              "6         16\n",
              "7          8\n",
              "8          2\n",
              "9          1\n",
              "11         1\n",
              "96         5\n",
              "98       264\n",
              "Name: NumberOfTime60-89DaysPastDueNotWorse, dtype: int64"
            ]
          },
          "metadata": {},
          "execution_count": 120
        }
      ]
    },
    {
      "cell_type": "code",
      "metadata": {
        "id": "w4l1RJCOVEX-",
        "colab": {
          "base_uri": "https://localhost:8080/"
        },
        "outputId": "664aa82e-99d2-4f39-db00-1e138adb0e76"
      },
      "source": [
        "data[\"NumberOfTime30-59DaysPastDueNotWorse\"].value_counts().sort_index()"
      ],
      "execution_count": 121,
      "outputs": [
        {
          "output_type": "execute_result",
          "data": {
            "text/plain": [
              "0     125794\n",
              "1      16020\n",
              "2       4586\n",
              "3       1750\n",
              "4        746\n",
              "5        342\n",
              "6        140\n",
              "7         54\n",
              "8         25\n",
              "9         12\n",
              "10         4\n",
              "11         1\n",
              "12         2\n",
              "13         1\n",
              "96         5\n",
              "98       264\n",
              "Name: NumberOfTime30-59DaysPastDueNotWorse, dtype: int64"
            ]
          },
          "metadata": {},
          "execution_count": 121
        }
      ]
    },
    {
      "cell_type": "code",
      "metadata": {
        "id": "Xw4rDdG9Sl4x",
        "colab": {
          "base_uri": "https://localhost:8080/",
          "height": 338
        },
        "outputId": "fd9a980b-5545-4669-9cb3-1033c78233d9"
      },
      "source": [
        "plt.figure(figsize=(10,5))\n",
        "\n",
        "numberPastDue = data[['NumberOfTime60-89DaysPastDueNotWorse', 'NumberOfTimes90DaysLate', 'NumberOfTime30-59DaysPastDueNotWorse']]\n",
        "s.boxplot(data = numberPastDue)"
      ],
      "execution_count": 122,
      "outputs": [
        {
          "output_type": "execute_result",
          "data": {
            "text/plain": [
              "<matplotlib.axes._subplots.AxesSubplot at 0x7feed3bc1ad0>"
            ]
          },
          "metadata": {},
          "execution_count": 122
        },
        {
          "output_type": "display_data",
          "data": {
            "image/png": "[encoded data removed]",
            "text/plain": [
              "<Figure size 720x360 with 1 Axes>"
            ]
          },
          "metadata": {
            "needs_background": "light"
          }
        }
      ]
    },
    {
      "cell_type": "code",
      "metadata": {
        "id": "2hS5fJlxSyIR",
        "colab": {
          "base_uri": "https://localhost:8080/"
        },
        "outputId": "93112cf1-2665-44c5-db4a-4929f3b9d44d"
      },
      "source": [
        "data[data['NumberOfTime30-59DaysPastDueNotWorse'] > 20].mean()"
      ],
      "execution_count": 123,
      "outputs": [
        {
          "output_type": "execute_result",
          "data": {
            "text/plain": [
              "SeriousDlqin2yrs                           0.546468\n",
              "RevolvingUtilizationOfUnsecuredLines       1.000000\n",
              "age                                       34.245353\n",
              "NumberOfTime30-59DaysPastDueNotWorse      97.962825\n",
              "DebtRatio                                  5.739667\n",
              "MonthlyIncome                           1927.334572\n",
              "NumberOfOpenCreditLinesAndLoans            0.007435\n",
              "NumberOfTimes90DaysLate                   97.962825\n",
              "NumberRealEstateLoansOrLines               0.000000\n",
              "NumberOfTime60-89DaysPastDueNotWorse      97.962825\n",
              "NumberOfDependents                         0.327138\n",
              "dtype: float64"
            ]
          },
          "metadata": {},
          "execution_count": 123
        }
      ]
    },
    {
      "cell_type": "code",
      "metadata": {
        "id": "5SdU_iA3N37e",
        "colab": {
          "base_uri": "https://localhost:8080/",
          "height": 81
        },
        "outputId": "c12becde-88d5-44b1-b476-910d09babd5a"
      },
      "source": [
        "pd.DataFrame({'below_1': data[data['DebtRatio'] < 1]['DebtRatio'].count()/len(data)*100,\n",
        "             'beyond_10': data[data['DebtRatio'] >10]['DebtRatio'].count()/len(data)*100,\n",
        "             'between_1-10': data[(data['DebtRatio'] > 1) & (data['DebtRatio'] <= 10)]['DebtRatio'].count()/len(data)*100\n",
        "             }, index=[1])"
      ],
      "execution_count": 124,
      "outputs": [
        {
          "output_type": "execute_result",
          "data": {
            "text/html": [
              "<div>\n",
              "<style scoped>\n",
              "    .dataframe tbody tr th:only-of-type {\n",
              "        vertical-align: middle;\n",
              "    }\n",
              "\n",
              "    .dataframe tbody tr th {\n",
              "        vertical-align: top;\n",
              "    }\n",
              "\n",
              "    .dataframe thead th {\n",
              "        text-align: right;\n",
              "    }\n",
              "</style>\n",
              "<table border=\"1\" class=\"dataframe\">\n",
              "  <thead>\n",
              "    <tr style=\"text-align: right;\">\n",
              "      <th></th>\n",
              "      <th>below_1</th>\n",
              "      <th>beyond_10</th>\n",
              "      <th>between_1-10</th>\n",
              "    </tr>\n",
              "  </thead>\n",
              "  <tbody>\n",
              "    <tr>\n",
              "      <th>1</th>\n",
              "      <td>76.438102</td>\n",
              "      <td>19.235906</td>\n",
              "      <td>4.174402</td>\n",
              "    </tr>\n",
              "  </tbody>\n",
              "</table>\n",
              "</div>"
            ],
            "text/plain": [
              "     below_1  beyond_10  between_1-10\n",
              "1  76.438102  19.235906      4.174402"
            ]
          },
          "metadata": {},
          "execution_count": 124
        }
      ]
    },
    {
      "cell_type": "code",
      "metadata": {
        "id": "tI1hL5_9dHnx",
        "colab": {
          "base_uri": "https://localhost:8080/",
          "height": 354
        },
        "outputId": "334cbedf-5795-4160-8218-1d44ba16005d"
      },
      "source": [
        "s.countplot(data['SeriousDlqin2yrs'])"
      ],
      "execution_count": 125,
      "outputs": [
        {
          "output_type": "stream",
          "name": "stderr",
          "text": [
            "/usr/local/lib/python3.7/dist-packages/seaborn/_decorators.py:43: FutureWarning: Pass the following variable as a keyword arg: x. From version 0.12, the only valid positional argument will be `data`, and passing other arguments without an explicit keyword will result in an error or misinterpretation.\n",
            "  FutureWarning\n"
          ]
        },
        {
          "output_type": "execute_result",
          "data": {
            "text/plain": [
              "<matplotlib.axes._subplots.AxesSubplot at 0x7feed3a0ef10>"
            ]
          },
          "metadata": {},
          "execution_count": 125
        },
        {
          "output_type": "display_data",
          "data": {
            "image/png": "[encoded data removed]",
            "text/plain": [
              "<Figure size 432x288 with 1 Axes>"
            ]
          },
          "metadata": {
            "needs_background": "light"
          }
        }
      ]
    },
    {
      "cell_type": "code",
      "metadata": {
        "id": "Ns1k0LiQeDO_",
        "colab": {
          "base_uri": "https://localhost:8080/"
        },
        "outputId": "c2266f17-765f-4483-f1c8-da556f4572d1"
      },
      "source": [
        "data['SeriousDlqin2yrs'].value_counts().sort_index()"
      ],
      "execution_count": 126,
      "outputs": [
        {
          "output_type": "execute_result",
          "data": {
            "text/plain": [
              "0    139740\n",
              "1     10006\n",
              "Name: SeriousDlqin2yrs, dtype: int64"
            ]
          },
          "metadata": {},
          "execution_count": 126
        }
      ]
    },
    {
      "cell_type": "code",
      "metadata": {
        "id": "PmlZM0z1YEd0",
        "colab": {
          "base_uri": "https://localhost:8080/"
        },
        "outputId": "e6961c1f-6f81-44fa-81c3-db41dc4bdb13"
      },
      "source": [
        "X = data.drop('SeriousDlqin2yrs', axis=1)\n",
        "y = data['SeriousDlqin2yrs']\n",
        "X.shape\n",
        "y.shape"
      ],
      "execution_count": 127,
      "outputs": [
        {
          "output_type": "execute_result",
          "data": {
            "text/plain": [
              "(149746,)"
            ]
          },
          "metadata": {},
          "execution_count": 127
        }
      ]
    },
    {
      "cell_type": "code",
      "metadata": {
        "id": "poQPmaz4YctH",
        "colab": {
          "base_uri": "https://localhost:8080/"
        },
        "outputId": "46880d28-ff0c-475a-f9a0-2487fb7032fa"
      },
      "source": [
        "from sklearn.model_selection import train_test_split\n",
        "x_train, x_test, y_train, y_test = train_test_split(X, y, test_size = 0.25, random_state = 8)\n",
        "x_train.shape"
      ],
      "execution_count": 128,
      "outputs": [
        {
          "output_type": "execute_result",
          "data": {
            "text/plain": [
              "(112309, 10)"
            ]
          },
          "metadata": {},
          "execution_count": 128
        }
      ]
    },
    {
      "cell_type": "code",
      "metadata": {
        "id": "lY6BfEcCZFZi"
      },
      "source": [
        "from sklearn.ensemble import RandomForestClassifier\n",
        "\n",
        "parameter = {\n",
        "    'n_estimators': [9,18,27,36],\n",
        "    'max_depth': [3,5,7,9],\n",
        "    'min_samples_leaf': [2, 4, 6]\n",
        "}\n",
        "\n",
        "random_forest = RandomForestClassifier()"
      ],
      "execution_count": 129,
      "outputs": []
    },
    {
      "cell_type": "code",
      "metadata": {
        "id": "yAJYlFbkZZdU"
      },
      "source": [
        "from sklearn.model_selection import RandomizedSearchCV\n",
        "\n",
        "random_forest_model = RandomizedSearchCV(random_forest, param_distributions=parameter, cv=7)"
      ],
      "execution_count": 130,
      "outputs": []
    },
    {
      "cell_type": "code",
      "metadata": {
        "colab": {
          "base_uri": "https://localhost:8080/"
        },
        "id": "ux4q4DWXZ7E5",
        "outputId": "d86aa105-74f3-4009-dd91-197045e9019b"
      },
      "source": [
        "random_forest_model.fit(x_train, y_train)"
      ],
      "execution_count": 179,
      "outputs": [
        {
          "output_type": "execute_result",
          "data": {
            "text/plain": [
              "RandomizedSearchCV(cv=7, estimator=RandomForestClassifier(),\n",
              "                   param_distributions={'max_depth': [3, 5, 7, 9],\n",
              "                                        'min_samples_leaf': [2, 4, 6],\n",
              "                                        'n_estimators': [9, 18, 27, 36]})"
            ]
          },
          "metadata": {},
          "execution_count": 179
        }
      ]
    },
    {
      "cell_type": "code",
      "metadata": {
        "colab": {
          "base_uri": "https://localhost:8080/"
        },
        "id": "jUV426oBaY-p",
        "outputId": "b4b0aac1-163f-4b33-d563-6416a0ff63fa"
      },
      "source": [
        "best_estimator_rf = random_forest_model.best_estimator_\n",
        "best_estimator_rf"
      ],
      "execution_count": 93,
      "outputs": [
        {
          "output_type": "execute_result",
          "data": {
            "text/plain": [
              "RandomForestClassifier(max_depth=9, min_samples_leaf=6, n_estimators=27)"
            ]
          },
          "metadata": {},
          "execution_count": 93
        }
      ]
    },
    {
      "cell_type": "code",
      "metadata": {
        "colab": {
          "base_uri": "https://localhost:8080/"
        },
        "id": "sn8cNgwKagNl",
        "outputId": "b20a05ee-bd8c-4923-dba6-23863a8c7b66"
      },
      "source": [
        "y_ped_tandom_forest = random_forest_model.predict(x_test)\n",
        "y_ped_tandom_forest.shape\n"
      ],
      "execution_count": 94,
      "outputs": [
        {
          "output_type": "execute_result",
          "data": {
            "text/plain": [
              "(37437,)"
            ]
          },
          "metadata": {},
          "execution_count": 94
        }
      ]
    },
    {
      "cell_type": "code",
      "metadata": {
        "colab": {
          "base_uri": "https://localhost:8080/"
        },
        "id": "LDeQGn2vLx5O",
        "outputId": "e1f060b1-5348-49d0-c8f4-a41fdbc7bda7"
      },
      "source": [
        "y_ped_tandom_forest"
      ],
      "execution_count": 147,
      "outputs": [
        {
          "output_type": "execute_result",
          "data": {
            "text/plain": [
              "array([0, 0, 0, ..., 0, 0, 1])"
            ]
          },
          "metadata": {},
          "execution_count": 147
        }
      ]
    },
    {
      "cell_type": "code",
      "metadata": {
        "colab": {
          "base_uri": "https://localhost:8080/"
        },
        "id": "_M9sYbWpa-wY",
        "outputId": "3b084aad-8c6e-479c-f990-5627011d29b1"
      },
      "source": [
        "from sklearn.metrics import confusion_matrix\n",
        "con_matrix = confusion_matrix(y_test, y_ped_tandom_forest)\n",
        "print(con_matrix)"
      ],
      "execution_count": 95,
      "outputs": [
        {
          "output_type": "stream",
          "name": "stdout",
          "text": [
            "[[34652   252]\n",
            " [ 2153   380]]\n"
          ]
        }
      ]
    },
    {
      "cell_type": "code",
      "metadata": {
        "colab": {
          "base_uri": "https://localhost:8080/",
          "height": 294
        },
        "id": "bhik7gI3P73c",
        "outputId": "b4ea7f8e-b2e3-4640-8453-b584b49d6ac4"
      },
      "source": [
        "plt.figure()\n",
        "con_matrix2 = confusion_matrix(y_test, y_ped_tandom_forest, normalize='true')\n",
        "s.heatmap(con_matrix2, annot=True)\n",
        "plt.xlabel('Prediction')\n",
        "plt.ylabel('Target')\n",
        "plt.title(' Confusion Matrix Validation ');"
      ],
      "execution_count": 171,
      "outputs": [
        {
          "output_type": "display_data",
          "data": {
            "image/png": "[encoded data removed]",
            "text/plain": [
              "<Figure size 432x288 with 2 Axes>"
            ]
          },
          "metadata": {
            "needs_background": "light"
          }
        }
      ]
    },
    {
      "cell_type": "code",
      "metadata": {
        "colab": {
          "base_uri": "https://localhost:8080/",
          "height": 354
        },
        "id": "HX5ADRhsS2Ay",
        "outputId": "6c49dae1-86ad-421f-fe43-5d0b348216d3"
      },
      "source": [
        "from sklearn.metrics import roc_auc_score, confusion_matrix, classification_report, plot_roc_curve\n",
        "plot_roc_curve(random_forest_model, x_test, y_test)"
      ],
      "execution_count": 180,
      "outputs": [
        {
          "output_type": "stream",
          "name": "stderr",
          "text": [
            "/usr/local/lib/python3.7/dist-packages/sklearn/utils/deprecation.py:87: FutureWarning: Function plot_roc_curve is deprecated; Function `plot_roc_curve` is deprecated in 1.0 and will be removed in 1.2. Use one of the class methods: RocCurveDisplay.from_predictions or RocCurveDisplay.from_estimator.\n",
            "  warnings.warn(msg, category=FutureWarning)\n"
          ]
        },
        {
          "output_type": "execute_result",
          "data": {
            "text/plain": [
              "<sklearn.metrics._plot.roc_curve.RocCurveDisplay at 0x7feeca96f510>"
            ]
          },
          "metadata": {},
          "execution_count": 180
        },
        {
          "output_type": "display_data",
          "data": {
            "image/png": "[encoded data removed]",
            "text/plain": [
              "<Figure size 432x288 with 1 Axes>"
            ]
          },
          "metadata": {
            "needs_background": "light"
          }
        }
      ]
    },
    {
      "cell_type": "code",
      "metadata": {
        "colab": {
          "base_uri": "https://localhost:8080/"
        },
        "id": "rIHIjlhPbpl4",
        "outputId": "1ce5a366-633b-473c-f9c3-dfe41034c47d"
      },
      "source": [
        "print(\"training accuracy: {:.2f}\".format(random_forest_model.score(x_train, y_train) * 100))\n",
        "print(\"validation accuracy: {:.2f}\".format(random_forest_model.score(x_test, y_test) * 100))"
      ],
      "execution_count": 96,
      "outputs": [
        {
          "output_type": "stream",
          "name": "stdout",
          "text": [
            "training accuracy: 94.21\n",
            "validation accuracy: 93.58\n"
          ]
        }
      ]
    },
    {
      "cell_type": "code",
      "metadata": {
        "colab": {
          "base_uri": "https://localhost:8080/"
        },
        "id": "-VrBhTGUMx_a",
        "outputId": "63035e92-d0d7-4048-978d-50345f4a8b25"
      },
      "source": [
        "from sklearn.metrics import roc_curve\n",
        "from sklearn.metrics import roc_auc_score\n",
        "\n",
        "Rf_auc = roc_auc_score(y_test, y_ped_tandom_forest)\n",
        "print('Random forest: ROC AUC=%.3f' % (Rf_auc))"
      ],
      "execution_count": 164,
      "outputs": [
        {
          "output_type": "stream",
          "name": "stdout",
          "text": [
            "Random forest: ROC AUC=0.571\n"
          ]
        }
      ]
    },
    {
      "cell_type": "markdown",
      "metadata": {
        "id": "TFIqG4or2Lmu"
      },
      "source": [
        "Using XGBoost Algorithm"
      ]
    },
    {
      "cell_type": "code",
      "metadata": {
        "id": "0_VEV5TZ8oFZ"
      },
      "source": [
        "import xgboost as xgb\n",
        "from xgboost.sklearn import XGBClassifier\n",
        "from sklearn.model_selection import GridSearchCV\n",
        "def algorithm_pipeline(x_train, x_test, y_train, y_test, \n",
        "                       model, xgb_hyperparams, cv=10):\n",
        "    gs = GridSearchCV(\n",
        "        estimator=model,\n",
        "        param_grid=xgb_hyperparams, \n",
        "        cv=cv, \n",
        "        n_jobs=-1, \n",
        "        \n",
        "        verbose=2\n",
        "    )\n",
        "    fitted_model = gs.fit(x_train, y_train)\n",
        "\n",
        "    pred_XGB = fitted_model.predict(x_test)\n",
        "\n",
        "    \n",
        "    return fitted_model, pred_XGB "
      ],
      "execution_count": 139,
      "outputs": []
    },
    {
      "cell_type": "code",
      "metadata": {
        "id": "7Obwk0jd2Qfe"
      },
      "source": [
        "xgb_hyperparams = {\n",
        "    'max_depth' : np.arange(4,10,1),\n",
        "    'colsample_bytree' : np.arange(0.5,1,0.1),\n",
        "    'learning_rate' : [0.01, 0.1, 0.2, 0.3],\n",
        "    'n_estimators' : np.arange(400,1000,100),\n",
        "    'subsample': np.arange(0.5,1,0.1),\n",
        "    'scale_pos_weight': [10,15,20]\n",
        "\n",
        "    \n",
        "}\n",
        "XGB_model = xgb.XGBClassifier()"
      ],
      "execution_count": 140,
      "outputs": []
    },
    {
      "cell_type": "code",
      "metadata": {
        "colab": {
          "base_uri": "https://localhost:8080/",
          "height": 362
        },
        "id": "kVW8YDim6e9y",
        "outputId": "d74e8e4e-dcf4-473a-f408-fc5d59eb61c9"
      },
      "source": [
        "#XGB_model, pred_XGB = algorithm_pipeline(x_train, x_test, y_train, y_test, XGB_model, \n",
        "                                 #xgb_hyperparams, cv=2)"
      ],
      "execution_count": 142,
      "outputs": [
        {
          "metadata": {
            "tags": null
          },
          "name": "stdout",
          "output_type": "stream",
          "text": [
            "Fitting 2 folds for each of 10800 candidates, totalling 21600 fits\n"
          ]
        },
        {
          "output_type": "error",
          "ename": "KeyboardInterrupt",
          "evalue": "ignored",
          "traceback": [
            "\u001b[0;31m---------------------------------------------------------------------------\u001b[0m",
            "\u001b[0;31mKeyboardInterrupt\u001b[0m                         Traceback (most recent call last)",
            "\u001b[0;32m<ipython-input-142-c8a4c49f001b>\u001b[0m in \u001b[0;36m<module>\u001b[0;34m()\u001b[0m\n\u001b[1;32m      1\u001b[0m XGB_model, pred_XGB = algorithm_pipeline(x_train, x_test, y_train, y_test, XGB_model, \n\u001b[0;32m----> 2\u001b[0;31m                                  xgb_hyperparams, cv=2)\n\u001b[0m",
            "\u001b[0;32m<ipython-input-139-c8f035f326a7>\u001b[0m in \u001b[0;36malgorithm_pipeline\u001b[0;34m(x_train, x_test, y_train, y_test, model, xgb_hyperparams, cv)\u001b[0m\n\u001b[1;32m     12\u001b[0m         \u001b[0mverbose\u001b[0m\u001b[0;34m=\u001b[0m\u001b[0;36m2\u001b[0m\u001b[0;34m\u001b[0m\u001b[0;34m\u001b[0m\u001b[0m\n\u001b[1;32m     13\u001b[0m     )\n\u001b[0;32m---> 14\u001b[0;31m     \u001b[0mfitted_model\u001b[0m \u001b[0;34m=\u001b[0m \u001b[0mgs\u001b[0m\u001b[0;34m.\u001b[0m\u001b[0mfit\u001b[0m\u001b[0;34m(\u001b[0m\u001b[0mx_train\u001b[0m\u001b[0;34m,\u001b[0m \u001b[0my_train\u001b[0m\u001b[0;34m)\u001b[0m\u001b[0;34m\u001b[0m\u001b[0;34m\u001b[0m\u001b[0m\n\u001b[0m\u001b[1;32m     15\u001b[0m \u001b[0;34m\u001b[0m\u001b[0m\n\u001b[1;32m     16\u001b[0m     \u001b[0mpred_XGB\u001b[0m \u001b[0;34m=\u001b[0m \u001b[0mfitted_model\u001b[0m\u001b[0;34m.\u001b[0m\u001b[0mpredict\u001b[0m\u001b[0;34m(\u001b[0m\u001b[0mx_test\u001b[0m\u001b[0;34m)\u001b[0m\u001b[0;34m\u001b[0m\u001b[0;34m\u001b[0m\u001b[0m\n",
            "\u001b[0;32m/usr/local/lib/python3.7/dist-packages/sklearn/model_selection/_search.py\u001b[0m in \u001b[0;36mfit\u001b[0;34m(self, X, y, groups, **fit_params)\u001b[0m\n\u001b[1;32m    889\u001b[0m                 \u001b[0;32mreturn\u001b[0m \u001b[0mresults\u001b[0m\u001b[0;34m\u001b[0m\u001b[0;34m\u001b[0m\u001b[0m\n\u001b[1;32m    890\u001b[0m \u001b[0;34m\u001b[0m\u001b[0m\n\u001b[0;32m--> 891\u001b[0;31m             \u001b[0mself\u001b[0m\u001b[0;34m.\u001b[0m\u001b[0m_run_search\u001b[0m\u001b[0;34m(\u001b[0m\u001b[0mevaluate_candidates\u001b[0m\u001b[0;34m)\u001b[0m\u001b[0;34m\u001b[0m\u001b[0;34m\u001b[0m\u001b[0m\n\u001b[0m\u001b[1;32m    892\u001b[0m \u001b[0;34m\u001b[0m\u001b[0m\n\u001b[1;32m    893\u001b[0m             \u001b[0;31m# multimetric is determined here because in the case of a callable\u001b[0m\u001b[0;34m\u001b[0m\u001b[0;34m\u001b[0m\u001b[0;34m\u001b[0m\u001b[0m\n",
            "\u001b[0;32m/usr/local/lib/python3.7/dist-packages/sklearn/model_selection/_search.py\u001b[0m in \u001b[0;36m_run_search\u001b[0;34m(self, evaluate_candidates)\u001b[0m\n\u001b[1;32m   1390\u001b[0m     \u001b[0;32mdef\u001b[0m \u001b[0m_run_search\u001b[0m\u001b[0;34m(\u001b[0m\u001b[0mself\u001b[0m\u001b[0;34m,\u001b[0m \u001b[0mevaluate_candidates\u001b[0m\u001b[0;34m)\u001b[0m\u001b[0;34m:\u001b[0m\u001b[0;34m\u001b[0m\u001b[0;34m\u001b[0m\u001b[0m\n\u001b[1;32m   1391\u001b[0m         \u001b[0;34m\"\"\"Search all candidates in param_grid\"\"\"\u001b[0m\u001b[0;34m\u001b[0m\u001b[0;34m\u001b[0m\u001b[0m\n\u001b[0;32m-> 1392\u001b[0;31m         \u001b[0mevaluate_candidates\u001b[0m\u001b[0;34m(\u001b[0m\u001b[0mParameterGrid\u001b[0m\u001b[0;34m(\u001b[0m\u001b[0mself\u001b[0m\u001b[0;34m.\u001b[0m\u001b[0mparam_grid\u001b[0m\u001b[0;34m)\u001b[0m\u001b[0;34m)\u001b[0m\u001b[0;34m\u001b[0m\u001b[0;34m\u001b[0m\u001b[0m\n\u001b[0m\u001b[1;32m   1393\u001b[0m \u001b[0;34m\u001b[0m\u001b[0m\n\u001b[1;32m   1394\u001b[0m \u001b[0;34m\u001b[0m\u001b[0m\n",
            "\u001b[0;32m/usr/local/lib/python3.7/dist-packages/sklearn/model_selection/_search.py\u001b[0m in \u001b[0;36mevaluate_candidates\u001b[0;34m(candidate_params, cv, more_results)\u001b[0m\n\u001b[1;32m    849\u001b[0m                     )\n\u001b[1;32m    850\u001b[0m                     for (cand_idx, parameters), (split_idx, (train, test)) in product(\n\u001b[0;32m--> 851\u001b[0;31m                         \u001b[0menumerate\u001b[0m\u001b[0;34m(\u001b[0m\u001b[0mcandidate_params\u001b[0m\u001b[0;34m)\u001b[0m\u001b[0;34m,\u001b[0m \u001b[0menumerate\u001b[0m\u001b[0;34m(\u001b[0m\u001b[0mcv\u001b[0m\u001b[0;34m.\u001b[0m\u001b[0msplit\u001b[0m\u001b[0;34m(\u001b[0m\u001b[0mX\u001b[0m\u001b[0;34m,\u001b[0m \u001b[0my\u001b[0m\u001b[0;34m,\u001b[0m \u001b[0mgroups\u001b[0m\u001b[0;34m)\u001b[0m\u001b[0;34m)\u001b[0m\u001b[0;34m\u001b[0m\u001b[0;34m\u001b[0m\u001b[0m\n\u001b[0m\u001b[1;32m    852\u001b[0m                     )\n\u001b[1;32m    853\u001b[0m                 )\n",
            "\u001b[0;32m/usr/local/lib/python3.7/dist-packages/joblib/parallel.py\u001b[0m in \u001b[0;36m__call__\u001b[0;34m(self, iterable)\u001b[0m\n\u001b[1;32m   1054\u001b[0m \u001b[0;34m\u001b[0m\u001b[0m\n\u001b[1;32m   1055\u001b[0m             \u001b[0;32mwith\u001b[0m \u001b[0mself\u001b[0m\u001b[0;34m.\u001b[0m\u001b[0m_backend\u001b[0m\u001b[0;34m.\u001b[0m\u001b[0mretrieval_context\u001b[0m\u001b[0;34m(\u001b[0m\u001b[0;34m)\u001b[0m\u001b[0;34m:\u001b[0m\u001b[0;34m\u001b[0m\u001b[0;34m\u001b[0m\u001b[0m\n\u001b[0;32m-> 1056\u001b[0;31m                 \u001b[0mself\u001b[0m\u001b[0;34m.\u001b[0m\u001b[0mretrieve\u001b[0m\u001b[0;34m(\u001b[0m\u001b[0;34m)\u001b[0m\u001b[0;34m\u001b[0m\u001b[0;34m\u001b[0m\u001b[0m\n\u001b[0m\u001b[1;32m   1057\u001b[0m             \u001b[0;31m# Make sure that we get a last message telling us we are done\u001b[0m\u001b[0;34m\u001b[0m\u001b[0;34m\u001b[0m\u001b[0;34m\u001b[0m\u001b[0m\n\u001b[1;32m   1058\u001b[0m             \u001b[0melapsed_time\u001b[0m \u001b[0;34m=\u001b[0m \u001b[0mtime\u001b[0m\u001b[0;34m.\u001b[0m\u001b[0mtime\u001b[0m\u001b[0;34m(\u001b[0m\u001b[0;34m)\u001b[0m \u001b[0;34m-\u001b[0m \u001b[0mself\u001b[0m\u001b[0;34m.\u001b[0m\u001b[0m_start_time\u001b[0m\u001b[0;34m\u001b[0m\u001b[0;34m\u001b[0m\u001b[0m\n",
            "\u001b[0;32m/usr/local/lib/python3.7/dist-packages/joblib/parallel.py\u001b[0m in \u001b[0;36mretrieve\u001b[0;34m(self)\u001b[0m\n\u001b[1;32m    933\u001b[0m             \u001b[0;32mtry\u001b[0m\u001b[0;34m:\u001b[0m\u001b[0;34m\u001b[0m\u001b[0;34m\u001b[0m\u001b[0m\n\u001b[1;32m    934\u001b[0m                 \u001b[0;32mif\u001b[0m \u001b[0mgetattr\u001b[0m\u001b[0;34m(\u001b[0m\u001b[0mself\u001b[0m\u001b[0;34m.\u001b[0m\u001b[0m_backend\u001b[0m\u001b[0;34m,\u001b[0m \u001b[0;34m'supports_timeout'\u001b[0m\u001b[0;34m,\u001b[0m \u001b[0;32mFalse\u001b[0m\u001b[0;34m)\u001b[0m\u001b[0;34m:\u001b[0m\u001b[0;34m\u001b[0m\u001b[0;34m\u001b[0m\u001b[0m\n\u001b[0;32m--> 935\u001b[0;31m                     \u001b[0mself\u001b[0m\u001b[0;34m.\u001b[0m\u001b[0m_output\u001b[0m\u001b[0;34m.\u001b[0m\u001b[0mextend\u001b[0m\u001b[0;34m(\u001b[0m\u001b[0mjob\u001b[0m\u001b[0;34m.\u001b[0m\u001b[0mget\u001b[0m\u001b[0;34m(\u001b[0m\u001b[0mtimeout\u001b[0m\u001b[0;34m=\u001b[0m\u001b[0mself\u001b[0m\u001b[0;34m.\u001b[0m\u001b[0mtimeout\u001b[0m\u001b[0;34m)\u001b[0m\u001b[0;34m)\u001b[0m\u001b[0;34m\u001b[0m\u001b[0;34m\u001b[0m\u001b[0m\n\u001b[0m\u001b[1;32m    936\u001b[0m                 \u001b[0;32melse\u001b[0m\u001b[0;34m:\u001b[0m\u001b[0;34m\u001b[0m\u001b[0;34m\u001b[0m\u001b[0m\n\u001b[1;32m    937\u001b[0m                     \u001b[0mself\u001b[0m\u001b[0;34m.\u001b[0m\u001b[0m_output\u001b[0m\u001b[0;34m.\u001b[0m\u001b[0mextend\u001b[0m\u001b[0;34m(\u001b[0m\u001b[0mjob\u001b[0m\u001b[0;34m.\u001b[0m\u001b[0mget\u001b[0m\u001b[0;34m(\u001b[0m\u001b[0;34m)\u001b[0m\u001b[0;34m)\u001b[0m\u001b[0;34m\u001b[0m\u001b[0;34m\u001b[0m\u001b[0m\n",
            "\u001b[0;32m/usr/local/lib/python3.7/dist-packages/joblib/_parallel_backends.py\u001b[0m in \u001b[0;36mwrap_future_result\u001b[0;34m(future, timeout)\u001b[0m\n\u001b[1;32m    540\u001b[0m         AsyncResults.get from multiprocessing.\"\"\"\n\u001b[1;32m    541\u001b[0m         \u001b[0;32mtry\u001b[0m\u001b[0;34m:\u001b[0m\u001b[0;34m\u001b[0m\u001b[0;34m\u001b[0m\u001b[0m\n\u001b[0;32m--> 542\u001b[0;31m             \u001b[0;32mreturn\u001b[0m \u001b[0mfuture\u001b[0m\u001b[0;34m.\u001b[0m\u001b[0mresult\u001b[0m\u001b[0;34m(\u001b[0m\u001b[0mtimeout\u001b[0m\u001b[0;34m=\u001b[0m\u001b[0mtimeout\u001b[0m\u001b[0;34m)\u001b[0m\u001b[0;34m\u001b[0m\u001b[0;34m\u001b[0m\u001b[0m\n\u001b[0m\u001b[1;32m    543\u001b[0m         \u001b[0;32mexcept\u001b[0m \u001b[0mCfTimeoutError\u001b[0m \u001b[0;32mas\u001b[0m \u001b[0me\u001b[0m\u001b[0;34m:\u001b[0m\u001b[0;34m\u001b[0m\u001b[0;34m\u001b[0m\u001b[0m\n\u001b[1;32m    544\u001b[0m             \u001b[0;32mraise\u001b[0m \u001b[0mTimeoutError\u001b[0m \u001b[0;32mfrom\u001b[0m \u001b[0me\u001b[0m\u001b[0;34m\u001b[0m\u001b[0;34m\u001b[0m\u001b[0m\n",
            "\u001b[0;32m/usr/lib/python3.7/concurrent/futures/_base.py\u001b[0m in \u001b[0;36mresult\u001b[0;34m(self, timeout)\u001b[0m\n\u001b[1;32m    428\u001b[0m                 \u001b[0;32mreturn\u001b[0m \u001b[0mself\u001b[0m\u001b[0;34m.\u001b[0m\u001b[0m__get_result\u001b[0m\u001b[0;34m(\u001b[0m\u001b[0;34m)\u001b[0m\u001b[0;34m\u001b[0m\u001b[0;34m\u001b[0m\u001b[0m\n\u001b[1;32m    429\u001b[0m \u001b[0;34m\u001b[0m\u001b[0m\n\u001b[0;32m--> 430\u001b[0;31m             \u001b[0mself\u001b[0m\u001b[0;34m.\u001b[0m\u001b[0m_condition\u001b[0m\u001b[0;34m.\u001b[0m\u001b[0mwait\u001b[0m\u001b[0;34m(\u001b[0m\u001b[0mtimeout\u001b[0m\u001b[0;34m)\u001b[0m\u001b[0;34m\u001b[0m\u001b[0;34m\u001b[0m\u001b[0m\n\u001b[0m\u001b[1;32m    431\u001b[0m \u001b[0;34m\u001b[0m\u001b[0m\n\u001b[1;32m    432\u001b[0m             \u001b[0;32mif\u001b[0m \u001b[0mself\u001b[0m\u001b[0;34m.\u001b[0m\u001b[0m_state\u001b[0m \u001b[0;32min\u001b[0m \u001b[0;34m[\u001b[0m\u001b[0mCANCELLED\u001b[0m\u001b[0;34m,\u001b[0m \u001b[0mCANCELLED_AND_NOTIFIED\u001b[0m\u001b[0;34m]\u001b[0m\u001b[0;34m:\u001b[0m\u001b[0;34m\u001b[0m\u001b[0;34m\u001b[0m\u001b[0m\n",
            "\u001b[0;32m/usr/lib/python3.7/threading.py\u001b[0m in \u001b[0;36mwait\u001b[0;34m(self, timeout)\u001b[0m\n\u001b[1;32m    294\u001b[0m         \u001b[0;32mtry\u001b[0m\u001b[0;34m:\u001b[0m    \u001b[0;31m# restore state no matter what (e.g., KeyboardInterrupt)\u001b[0m\u001b[0;34m\u001b[0m\u001b[0;34m\u001b[0m\u001b[0m\n\u001b[1;32m    295\u001b[0m             \u001b[0;32mif\u001b[0m \u001b[0mtimeout\u001b[0m \u001b[0;32mis\u001b[0m \u001b[0;32mNone\u001b[0m\u001b[0;34m:\u001b[0m\u001b[0;34m\u001b[0m\u001b[0;34m\u001b[0m\u001b[0m\n\u001b[0;32m--> 296\u001b[0;31m                 \u001b[0mwaiter\u001b[0m\u001b[0;34m.\u001b[0m\u001b[0macquire\u001b[0m\u001b[0;34m(\u001b[0m\u001b[0;34m)\u001b[0m\u001b[0;34m\u001b[0m\u001b[0;34m\u001b[0m\u001b[0m\n\u001b[0m\u001b[1;32m    297\u001b[0m                 \u001b[0mgotit\u001b[0m \u001b[0;34m=\u001b[0m \u001b[0;32mTrue\u001b[0m\u001b[0;34m\u001b[0m\u001b[0;34m\u001b[0m\u001b[0m\n\u001b[1;32m    298\u001b[0m             \u001b[0;32melse\u001b[0m\u001b[0;34m:\u001b[0m\u001b[0;34m\u001b[0m\u001b[0;34m\u001b[0m\u001b[0m\n",
            "\u001b[0;31mKeyboardInterrupt\u001b[0m: "
          ]
        }
      ]
    },
    {
      "cell_type": "code",
      "metadata": {
        "colab": {
          "base_uri": "https://localhost:8080/"
        },
        "id": "z1MZ8s4YLSa6",
        "outputId": "2d603701-3cb0-447b-ea9b-52b64ac5bb63"
      },
      "source": [
        "xgb_model_new = xgb.XGBClassifier(n_jobs = -1, n_estimators = 220, random_state= 2)\n",
        "xgb_model_new.fit(x_train, y_train)"
      ],
      "execution_count": 143,
      "outputs": [
        {
          "output_type": "execute_result",
          "data": {
            "text/plain": [
              "XGBClassifier(n_estimators=220, n_jobs=-1, random_state=2)"
            ]
          },
          "metadata": {},
          "execution_count": 143
        }
      ]
    },
    {
      "cell_type": "code",
      "metadata": {
        "colab": {
          "base_uri": "https://localhost:8080/"
        },
        "id": "wExb1kGdLgkQ",
        "outputId": "6357a01e-d74f-44f4-9289-e88808e7bb76"
      },
      "source": [
        "ypred_xgb= xgb_model_new .predict(x_test)\n",
        "ypred_xgb"
      ],
      "execution_count": 151,
      "outputs": [
        {
          "output_type": "execute_result",
          "data": {
            "text/plain": [
              "array([0, 0, 0, ..., 0, 0, 1])"
            ]
          },
          "metadata": {},
          "execution_count": 151
        }
      ]
    },
    {
      "cell_type": "code",
      "metadata": {
        "colab": {
          "base_uri": "https://localhost:8080/",
          "height": 352
        },
        "id": "RjqqNAaWYsZx",
        "outputId": "3e4e8572-5e87-4283-9a76-d82fdf252738"
      },
      "source": [
        "axis1 = s.countplot(ypred_xgb)\n",
        "plt.title('Prediction of Test Data')\n",
        "plt.xlabel('SeriousDLQ in 2 Years')\n",
        "plt.ylabel('Count')\n",
        "for p in axis1.patches:\n",
        "        axis1.annotate('{:,}'.format(p.get_height()), (p.get_x()+0.1, p.get_height()+50))"
      ],
      "execution_count": 208,
      "outputs": [
        {
          "output_type": "stream",
          "name": "stderr",
          "text": [
            "/usr/local/lib/python3.7/dist-packages/seaborn/_decorators.py:43: FutureWarning: Pass the following variable as a keyword arg: x. From version 0.12, the only valid positional argument will be `data`, and passing other arguments without an explicit keyword will result in an error or misinterpretation.\n",
            "  FutureWarning\n"
          ]
        },
        {
          "output_type": "display_data",
          "data": {
            "image/png": "[encoded data removed]",
            "text/plain": [
              "<Figure size 432x288 with 1 Axes>"
            ]
          },
          "metadata": {
            "needs_background": "light"
          }
        }
      ]
    },
    {
      "cell_type": "code",
      "metadata": {
        "colab": {
          "base_uri": "https://localhost:8080/"
        },
        "id": "bvXjXme8MHvx",
        "outputId": "bc19e4ba-3c90-47c0-d2a1-c72f60bd9d90"
      },
      "source": [
        "print(\"training accuracy with XGB model: {:.2f}\".format(xgb_model_new.score(x_train, y_train) * 100))\n",
        "print(\"validation accuracy with XGB model: {:.2f}\".format(xgb_model_new.score(x_test, y_test) * 100))"
      ],
      "execution_count": 152,
      "outputs": [
        {
          "output_type": "stream",
          "name": "stdout",
          "text": [
            "training accuracy with XGB model: 93.93\n",
            "validation accuracy with XGB model: 93.64\n"
          ]
        }
      ]
    },
    {
      "cell_type": "code",
      "metadata": {
        "colab": {
          "base_uri": "https://localhost:8080/"
        },
        "id": "o8pQlhPVMavp",
        "outputId": "d5817f78-0e0b-4fd4-df0c-d860cfbc147e"
      },
      "source": [
        "\n",
        "xgb_auc = roc_auc_score(y_test, ypred_xgb)\n",
        "print('XGB: ROC AUC=%.3f' % (xgb_auc))"
      ],
      "execution_count": 156,
      "outputs": [
        {
          "output_type": "stream",
          "name": "stdout",
          "text": [
            "XGB: ROC AUC=0.591\n"
          ]
        }
      ]
    },
    {
      "cell_type": "code",
      "metadata": {
        "colab": {
          "base_uri": "https://localhost:8080/",
          "height": 354
        },
        "id": "Ps8bsh-SSMdU",
        "outputId": "17c99fad-02d6-489f-d9f9-2f2fe89edfc7"
      },
      "source": [
        "\n",
        "plot_roc_curve(xgb_model_new, x_test, y_test)"
      ],
      "execution_count": 176,
      "outputs": [
        {
          "output_type": "stream",
          "name": "stderr",
          "text": [
            "/usr/local/lib/python3.7/dist-packages/sklearn/utils/deprecation.py:87: FutureWarning: Function plot_roc_curve is deprecated; Function `plot_roc_curve` is deprecated in 1.0 and will be removed in 1.2. Use one of the class methods: RocCurveDisplay.from_predictions or RocCurveDisplay.from_estimator.\n",
            "  warnings.warn(msg, category=FutureWarning)\n"
          ]
        },
        {
          "output_type": "execute_result",
          "data": {
            "text/plain": [
              "<sklearn.metrics._plot.roc_curve.RocCurveDisplay at 0x7feecaa34190>"
            ]
          },
          "metadata": {},
          "execution_count": 176
        },
        {
          "output_type": "display_data",
          "data": {
            "image/png": "[encoded data removed]",
            "text/plain": [
              "<Figure size 432x288 with 1 Axes>"
            ]
          },
          "metadata": {
            "needs_background": "light"
          }
        }
      ]
    },
    {
      "cell_type": "code",
      "metadata": {
        "colab": {
          "base_uri": "https://localhost:8080/"
        },
        "id": "WIMu41kzUIjU",
        "outputId": "53cc443b-1ddc-491a-941e-660f0429fdbb"
      },
      "source": [
        "test_data = pd.read_csv('/content/cs-test.csv')\n",
        "test_data.head()\n",
        "test_data=test_data.iloc[:,1:]\n",
        "type(test_data)"
      ],
      "execution_count": 190,
      "outputs": [
        {
          "output_type": "execute_result",
          "data": {
            "text/plain": [
              "pandas.core.frame.DataFrame"
            ]
          },
          "metadata": {},
          "execution_count": 190
        }
      ]
    },
    {
      "cell_type": "code",
      "metadata": {
        "colab": {
          "base_uri": "https://localhost:8080/",
          "height": 337
        },
        "id": "sqpDu2fhUcQ9",
        "outputId": "d8f30313-cc41-4399-9732-90778f163762"
      },
      "source": [
        "test_data.describe()"
      ],
      "execution_count": 191,
      "outputs": [
        {
          "output_type": "execute_result",
          "data": {
            "text/html": [
              "<div>\n",
              "<style scoped>\n",
              "    .dataframe tbody tr th:only-of-type {\n",
              "        vertical-align: middle;\n",
              "    }\n",
              "\n",
              "    .dataframe tbody tr th {\n",
              "        vertical-align: top;\n",
              "    }\n",
              "\n",
              "    .dataframe thead th {\n",
              "        text-align: right;\n",
              "    }\n",
              "</style>\n",
              "<table border=\"1\" class=\"dataframe\">\n",
              "  <thead>\n",
              "    <tr style=\"text-align: right;\">\n",
              "      <th></th>\n",
              "      <th>SeriousDlqin2yrs</th>\n",
              "      <th>RevolvingUtilizationOfUnsecuredLines</th>\n",
              "      <th>age</th>\n",
              "      <th>NumberOfTime30-59DaysPastDueNotWorse</th>\n",
              "      <th>DebtRatio</th>\n",
              "      <th>MonthlyIncome</th>\n",
              "      <th>NumberOfOpenCreditLinesAndLoans</th>\n",
              "      <th>NumberOfTimes90DaysLate</th>\n",
              "      <th>NumberRealEstateLoansOrLines</th>\n",
              "      <th>NumberOfTime60-89DaysPastDueNotWorse</th>\n",
              "      <th>NumberOfDependents</th>\n",
              "    </tr>\n",
              "  </thead>\n",
              "  <tbody>\n",
              "    <tr>\n",
              "      <th>count</th>\n",
              "      <td>0.0</td>\n",
              "      <td>101503.000000</td>\n",
              "      <td>101503.000000</td>\n",
              "      <td>101503.000000</td>\n",
              "      <td>101503.000000</td>\n",
              "      <td>8.140000e+04</td>\n",
              "      <td>101503.000000</td>\n",
              "      <td>101503.000000</td>\n",
              "      <td>101503.000000</td>\n",
              "      <td>101503.000000</td>\n",
              "      <td>98877.000000</td>\n",
              "    </tr>\n",
              "    <tr>\n",
              "      <th>mean</th>\n",
              "      <td>NaN</td>\n",
              "      <td>5.310000</td>\n",
              "      <td>52.405436</td>\n",
              "      <td>0.453770</td>\n",
              "      <td>344.475020</td>\n",
              "      <td>6.855036e+03</td>\n",
              "      <td>8.453514</td>\n",
              "      <td>0.296691</td>\n",
              "      <td>1.013074</td>\n",
              "      <td>0.270317</td>\n",
              "      <td>0.769046</td>\n",
              "    </tr>\n",
              "    <tr>\n",
              "      <th>std</th>\n",
              "      <td>NaN</td>\n",
              "      <td>196.156039</td>\n",
              "      <td>14.779756</td>\n",
              "      <td>4.538487</td>\n",
              "      <td>1632.595231</td>\n",
              "      <td>3.650860e+04</td>\n",
              "      <td>5.144100</td>\n",
              "      <td>4.515859</td>\n",
              "      <td>1.110253</td>\n",
              "      <td>4.503578</td>\n",
              "      <td>1.136778</td>\n",
              "    </tr>\n",
              "    <tr>\n",
              "      <th>min</th>\n",
              "      <td>NaN</td>\n",
              "      <td>0.000000</td>\n",
              "      <td>21.000000</td>\n",
              "      <td>0.000000</td>\n",
              "      <td>0.000000</td>\n",
              "      <td>0.000000e+00</td>\n",
              "      <td>0.000000</td>\n",
              "      <td>0.000000</td>\n",
              "      <td>0.000000</td>\n",
              "      <td>0.000000</td>\n",
              "      <td>0.000000</td>\n",
              "    </tr>\n",
              "    <tr>\n",
              "      <th>25%</th>\n",
              "      <td>NaN</td>\n",
              "      <td>0.030131</td>\n",
              "      <td>41.000000</td>\n",
              "      <td>0.000000</td>\n",
              "      <td>0.173423</td>\n",
              "      <td>3.408000e+03</td>\n",
              "      <td>5.000000</td>\n",
              "      <td>0.000000</td>\n",
              "      <td>0.000000</td>\n",
              "      <td>0.000000</td>\n",
              "      <td>0.000000</td>\n",
              "    </tr>\n",
              "    <tr>\n",
              "      <th>50%</th>\n",
              "      <td>NaN</td>\n",
              "      <td>0.152586</td>\n",
              "      <td>52.000000</td>\n",
              "      <td>0.000000</td>\n",
              "      <td>0.364260</td>\n",
              "      <td>5.400000e+03</td>\n",
              "      <td>8.000000</td>\n",
              "      <td>0.000000</td>\n",
              "      <td>1.000000</td>\n",
              "      <td>0.000000</td>\n",
              "      <td>0.000000</td>\n",
              "    </tr>\n",
              "    <tr>\n",
              "      <th>75%</th>\n",
              "      <td>NaN</td>\n",
              "      <td>0.564225</td>\n",
              "      <td>63.000000</td>\n",
              "      <td>0.000000</td>\n",
              "      <td>0.851619</td>\n",
              "      <td>8.200000e+03</td>\n",
              "      <td>11.000000</td>\n",
              "      <td>0.000000</td>\n",
              "      <td>2.000000</td>\n",
              "      <td>0.000000</td>\n",
              "      <td>1.000000</td>\n",
              "    </tr>\n",
              "    <tr>\n",
              "      <th>max</th>\n",
              "      <td>NaN</td>\n",
              "      <td>21821.000000</td>\n",
              "      <td>104.000000</td>\n",
              "      <td>98.000000</td>\n",
              "      <td>268326.000000</td>\n",
              "      <td>7.727000e+06</td>\n",
              "      <td>85.000000</td>\n",
              "      <td>98.000000</td>\n",
              "      <td>37.000000</td>\n",
              "      <td>98.000000</td>\n",
              "      <td>43.000000</td>\n",
              "    </tr>\n",
              "  </tbody>\n",
              "</table>\n",
              "</div>"
            ],
            "text/plain": [
              "       SeriousDlqin2yrs  ...  NumberOfDependents\n",
              "count               0.0  ...        98877.000000\n",
              "mean                NaN  ...            0.769046\n",
              "std                 NaN  ...            1.136778\n",
              "min                 NaN  ...            0.000000\n",
              "25%                 NaN  ...            0.000000\n",
              "50%                 NaN  ...            0.000000\n",
              "75%                 NaN  ...            1.000000\n",
              "max                 NaN  ...           43.000000\n",
              "\n",
              "[8 rows x 11 columns]"
            ]
          },
          "metadata": {},
          "execution_count": 191
        }
      ]
    },
    {
      "cell_type": "code",
      "metadata": {
        "colab": {
          "base_uri": "https://localhost:8080/"
        },
        "id": "ZkoOJyeQVFUd",
        "outputId": "ae12db50-f7ff-4779-ea3f-5db7748b9c79"
      },
      "source": [
        "test_data.isnull().sum()"
      ],
      "execution_count": 193,
      "outputs": [
        {
          "output_type": "execute_result",
          "data": {
            "text/plain": [
              "SeriousDlqin2yrs                        101503\n",
              "RevolvingUtilizationOfUnsecuredLines         0\n",
              "age                                          0\n",
              "NumberOfTime30-59DaysPastDueNotWorse         0\n",
              "DebtRatio                                    0\n",
              "MonthlyIncome                            20103\n",
              "NumberOfOpenCreditLinesAndLoans              0\n",
              "NumberOfTimes90DaysLate                      0\n",
              "NumberRealEstateLoansOrLines                 0\n",
              "NumberOfTime60-89DaysPastDueNotWorse         0\n",
              "NumberOfDependents                        2626\n",
              "dtype: int64"
            ]
          },
          "metadata": {},
          "execution_count": 193
        }
      ]
    },
    {
      "cell_type": "code",
      "metadata": {
        "colab": {
          "base_uri": "https://localhost:8080/"
        },
        "id": "1BJSETXUVRsa",
        "outputId": "bc6e2bac-725e-4a8e-a90c-195f3d91ee9c"
      },
      "source": [
        "test_data[(test_data['MonthlyIncome'].notnull())&(test_data['DebtRatio']>1)]['MonthlyIncome'].describe()"
      ],
      "execution_count": 194,
      "outputs": [
        {
          "output_type": "execute_result",
          "data": {
            "text/plain": [
              "count     4729.000000\n",
              "mean      2222.395010\n",
              "std       2541.293874\n",
              "min          0.000000\n",
              "25%          1.000000\n",
              "50%       1666.000000\n",
              "75%       3224.000000\n",
              "max      27000.000000\n",
              "Name: MonthlyIncome, dtype: float64"
            ]
          },
          "metadata": {},
          "execution_count": 194
        }
      ]
    },
    {
      "cell_type": "code",
      "metadata": {
        "id": "ILXXLdAiVh7b"
      },
      "source": [
        "test_data['MonthlyIncome'].fillna(value=1666, inplace=True)\n",
        "test_data['NumberOfDependents'].fillna(value=0, inplace=True)"
      ],
      "execution_count": 195,
      "outputs": []
    },
    {
      "cell_type": "code",
      "metadata": {
        "colab": {
          "base_uri": "https://localhost:8080/"
        },
        "id": "atIJ1z-zWDzR",
        "outputId": "eda0de81-7df9-4713-9209-6ebfd01af364"
      },
      "source": [
        "test_data.isnull().sum()"
      ],
      "execution_count": 198,
      "outputs": [
        {
          "output_type": "execute_result",
          "data": {
            "text/plain": [
              "SeriousDlqin2yrs                        101503\n",
              "RevolvingUtilizationOfUnsecuredLines         0\n",
              "age                                          0\n",
              "NumberOfTime30-59DaysPastDueNotWorse         0\n",
              "DebtRatio                                    0\n",
              "MonthlyIncome                                0\n",
              "NumberOfOpenCreditLinesAndLoans              0\n",
              "NumberOfTimes90DaysLate                      0\n",
              "NumberRealEstateLoansOrLines                 0\n",
              "NumberOfTime60-89DaysPastDueNotWorse         0\n",
              "NumberOfDependents                           0\n",
              "dtype: int64"
            ]
          },
          "metadata": {},
          "execution_count": 198
        }
      ]
    },
    {
      "cell_type": "code",
      "metadata": {
        "colab": {
          "base_uri": "https://localhost:8080/"
        },
        "id": "8RlAVZX0WTmp",
        "outputId": "cdd8b234-a2f9-45fb-d516-f8393e833805"
      },
      "source": [
        "X_test_data = test_data.drop('SeriousDlqin2yrs', axis=1)\n",
        "y_test_data= test_data['SeriousDlqin2yrs']\n",
        "X_test_data.shape\n",
        "y_test_data.shape"
      ],
      "execution_count": 199,
      "outputs": [
        {
          "output_type": "execute_result",
          "data": {
            "text/plain": [
              "(101503,)"
            ]
          },
          "metadata": {},
          "execution_count": 199
        }
      ]
    },
    {
      "cell_type": "code",
      "metadata": {
        "colab": {
          "base_uri": "https://localhost:8080/"
        },
        "id": "XAV8Rga1WXFd",
        "outputId": "067cef9e-0531-4e4b-e88c-f827eb5657ea"
      },
      "source": [
        "X_test_data.isnull().sum()"
      ],
      "execution_count": 200,
      "outputs": [
        {
          "output_type": "execute_result",
          "data": {
            "text/plain": [
              "RevolvingUtilizationOfUnsecuredLines    0\n",
              "age                                     0\n",
              "NumberOfTime30-59DaysPastDueNotWorse    0\n",
              "DebtRatio                               0\n",
              "MonthlyIncome                           0\n",
              "NumberOfOpenCreditLinesAndLoans         0\n",
              "NumberOfTimes90DaysLate                 0\n",
              "NumberRealEstateLoansOrLines            0\n",
              "NumberOfTime60-89DaysPastDueNotWorse    0\n",
              "NumberOfDependents                      0\n",
              "dtype: int64"
            ]
          },
          "metadata": {},
          "execution_count": 200
        }
      ]
    },
    {
      "cell_type": "code",
      "metadata": {
        "colab": {
          "base_uri": "https://localhost:8080/"
        },
        "id": "lDIyj7ZxWsNF",
        "outputId": "d79c4ccf-8c66-456a-fbb5-623f081b6667"
      },
      "source": [
        "ypred_xgb_test_data = xgb_model_new .predict(X_test_data)\n",
        "print(ypred_xgb_test_data)"
      ],
      "execution_count": 202,
      "outputs": [
        {
          "output_type": "stream",
          "name": "stdout",
          "text": [
            "[0 0 0 ... 0 0 0]\n"
          ]
        }
      ]
    },
    {
      "cell_type": "code",
      "metadata": {
        "colab": {
          "base_uri": "https://localhost:8080/",
          "height": 352
        },
        "id": "7wWnuLBfW7e0",
        "outputId": "531e95c1-8477-4393-8ddf-92ca699f8c2f"
      },
      "source": [
        "axis = s.countplot(ypred_xgb_test_data)\n",
        "plt.title('Prediction of Test Data')\n",
        "plt.xlabel('SeriousDLQ in 2 Years')\n",
        "plt.ylabel('Count')\n",
        "for p in axis.patches:\n",
        "        axis.annotate('{:,}'.format(p.get_height()), (p.get_x()+0.1, p.get_height()+50))"
      ],
      "execution_count": 207,
      "outputs": [
        {
          "output_type": "stream",
          "name": "stderr",
          "text": [
            "/usr/local/lib/python3.7/dist-packages/seaborn/_decorators.py:43: FutureWarning: Pass the following variable as a keyword arg: x. From version 0.12, the only valid positional argument will be `data`, and passing other arguments without an explicit keyword will result in an error or misinterpretation.\n",
            "  FutureWarning\n"
          ]
        },
        {
          "output_type": "display_data",
          "data": {
            "image/png": "[encoded data removed]",
            "text/plain": [
              "<Figure size 432x288 with 1 Axes>"
            ]
          },
          "metadata": {
            "needs_background": "light"
          }
        }
      ]
    }
  ]
}